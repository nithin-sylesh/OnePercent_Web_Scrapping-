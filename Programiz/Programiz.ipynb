{
 "cells": [
  {
   "cell_type": "code",
   "execution_count": 1,
   "id": "71cb91ac",
   "metadata": {},
   "outputs": [],
   "source": [
    "#importing libraries\n",
    "import pandas as pd\n",
    "import numpy as np\n",
    "import matplotlib.pyplot as plt\n",
    "import seaborn as sns\n",
    "%matplotlib inline\n",
    "import re\n",
    "import time\n",
    "from datetime import datetime\n",
    "import matplotlib.dates as mdates\n",
    "import matplotlib.ticker as ticker\n",
    "from urllib.request import urlopen\n",
    "\n",
    "from bs4 import BeautifulSoup\n",
    "import requests"
   ]
  },
  {
   "cell_type": "code",
   "execution_count": 2,
   "id": "5682f30a",
   "metadata": {},
   "outputs": [],
   "source": [
    "website = 'https://www.programiz.com'\n",
    "request = requests.get(website)\n",
    "soup = BeautifulSoup(request.content, 'html.parser')\n",
    "\n",
    "tab_link_container = soup.find_all('a', class_ = 'highlight-course__col')"
   ]
  },
  {
   "cell_type": "code",
   "execution_count": 46,
   "id": "0834e645",
   "metadata": {},
   "outputs": [],
   "source": [
    "course_headings = []\n",
    "course_links = []"
   ]
  },
  {
   "cell_type": "code",
   "execution_count": 47,
   "id": "4e5c5533",
   "metadata": {
    "scrolled": false
   },
   "outputs": [],
   "source": [
    "for i in tab_link_container:\n",
    "    course_headings.append(i.h3.text)\n",
    "    course_links.append(i.get('href'))"
   ]
  },
  {
   "cell_type": "code",
   "execution_count": 48,
   "id": "d53f689d",
   "metadata": {},
   "outputs": [
    {
     "data": {
      "text/plain": [
       "['Python Programming',\n",
       " 'C Programming',\n",
       " 'Java Programming',\n",
       " 'Javascript Programming',\n",
       " 'C++ Programming',\n",
       " 'DS & Algorithms',\n",
       " 'Kotlin Programming',\n",
       " 'Swift Programming',\n",
       " 'C# Programming']"
      ]
     },
     "execution_count": 48,
     "metadata": {},
     "output_type": "execute_result"
    }
   ],
   "source": [
    "course_headings"
   ]
  },
  {
   "cell_type": "code",
   "execution_count": 49,
   "id": "7024f370",
   "metadata": {},
   "outputs": [
    {
     "data": {
      "text/plain": [
       "['/python-programming',\n",
       " '/c-programming',\n",
       " '/java-programming',\n",
       " '/javascript',\n",
       " '/cpp-programming',\n",
       " '/dsa',\n",
       " '/kotlin-programming',\n",
       " '/swift-programming',\n",
       " '/csharp-programming']"
      ]
     },
     "execution_count": 49,
     "metadata": {},
     "output_type": "execute_result"
    }
   ],
   "source": [
    "course_links"
   ]
  },
  {
   "cell_type": "code",
   "execution_count": 50,
   "id": "80419743",
   "metadata": {},
   "outputs": [],
   "source": [
    "def get_data(link):\n",
    "    request = requests.get(link)\n",
    "    soup = BeautifulSoup(request.content, 'html.parser')\n",
    "    return soup"
   ]
  },
  {
   "cell_type": "code",
   "execution_count": 80,
   "id": "df93917a",
   "metadata": {},
   "outputs": [],
   "source": []
  },
  {
   "cell_type": "code",
   "execution_count": 197,
   "id": "abc4e967",
   "metadata": {},
   "outputs": [],
   "source": [
    "for link_index in range(len(course_links)):\n",
    "    course_description = []\n",
    "    course_headings = []\n",
    "    list_headings = []\n",
    "    \n",
    "    unordered_list_items = []\n",
    "    links_in_page = []\n",
    "    site_links = []\n",
    "    c_link = website + str(course_links[link_index])\n",
    "    site_links.append(c_link)\n",
    "    course_soup = get_data(c_link)\n",
    "    course_container = course_soup.find_all('div', class_= 'container')\n",
    "    \n",
    "    for desc in course_container:\n",
    "        description = desc.find_all('div', class_ = 'program-description')\n",
    "        if len(description) != 0:\n",
    "            course_description.append(description[0].text.replace('\\n', ' ').strip())\n",
    "            \n",
    "    right_bar = course_soup.find_all('div', class_ = 'right-bar')\n",
    "    editor_contents = right_bar[0].find_all('div', class_ = 'editor-contents')\n",
    "    \n",
    "    # All H3 headings\n",
    "    list_headings_per_page = ''\n",
    "    head_str = ''\n",
    "    for list_head in right_bar[0].find_all('h3'):\n",
    "        head_str += list_head.text + '$$$'\n",
    "    list_headings_per_page += head_str + '|||'\n",
    "    \n",
    "    # All H2 headings\n",
    "    head_str = ''\n",
    "    for list_head in right_bar[0].find_all('h2'):\n",
    "        head_str += list_head.text + '$$$'\n",
    "    list_headings_per_page += head_str[:-3]\n",
    "    list_headings.append(list_headings_per_page)\n",
    "    \n",
    "    # getting unordered lists and links from the progress list column\n",
    "    unordered_list_items_per_page = ''\n",
    "    links_per_page = ''\n",
    "    for i in right_bar[0].find_all('div', class_ = 'progress-list'):\n",
    "        li_str = ''\n",
    "        for li in i.find_all('li'):\n",
    "            li_str += li.text + '$$$'\n",
    "        unordered_list_items_per_page += li_str[:-3] + '|||'\n",
    "        link_str = ''\n",
    "        for page_link in i.find_all('a'):\n",
    "            link_str += page_link.get('href') + '$$$'\n",
    "        links_per_page += link_str + '|||'\n",
    "#     unordered_list_items.append(unordered_list_items_per_page[:-3])\n",
    "    links_in_page.append(links_per_page[:-3])\n",
    "    \n",
    "    # getting unordered lists from the body\n",
    "    ul_body = ''\n",
    "    for ul in editor_contents[0].find_all('ul'):\n",
    "        ul_li = ''\n",
    "        for li in ul.find_all('li'):\n",
    "            ul_li += li.text + '$$$'\n",
    "        ul_body += ul_li + '|||'\n",
    "    if len(unordered_list_items_per_page) > 0:\n",
    "        unordered_list_items_per_page += unordered_list_items_per_page + ul_body[:-3]\n",
    "    else:\n",
    "        unordered_list_items_per_page = ul_body[:-3]\n",
    "    unordered_list_items.append(unordered_list_items_per_page)\n",
    "    break"
   ]
  },
  {
   "cell_type": "code",
   "execution_count": 121,
   "id": "78ecb14c",
   "metadata": {},
   "outputs": [
    {
     "data": {
      "text/plain": [
       "8"
      ]
     },
     "execution_count": 121,
     "metadata": {},
     "output_type": "execute_result"
    }
   ],
   "source": [
    "len(right_bar[0].find_all('div', class_ = 'progress-list'))"
   ]
  },
  {
   "cell_type": "code",
   "execution_count": 154,
   "id": "75dd2358",
   "metadata": {},
   "outputs": [],
   "source": [
    "for i in right_bar[0].find_all('div', class_ = 'progress-list'):\n",
    "#     print(type(i))\n",
    "    for j in i.find_all('ol'):\n",
    "        print(j)\n",
    "    break\n",
    "#     print('\\\\\\\\')"
   ]
  },
  {
   "cell_type": "code",
   "execution_count": 164,
   "id": "f998690f",
   "metadata": {},
   "outputs": [
    {
     "data": {
      "text/plain": [
       "['Python is a powerful general-purpose programming language. It is used in web development, data science, creating software prototypes, and so on. Fortunately for beginners, Python has simple easy-to-use syntax. This makes Python an excellent language to learn to program for beginners. Our Python tutorial will guide you to learn Python one step at a time. If you prefer videos, watch our Python for beginners playlist on Youtube.']"
      ]
     },
     "execution_count": 164,
     "metadata": {},
     "output_type": "execute_result"
    }
   ],
   "source": [
    "course_description"
   ]
  },
  {
   "cell_type": "code",
   "execution_count": 198,
   "id": "fa5b4a64",
   "metadata": {},
   "outputs": [
    {
     "data": {
      "text/plain": [
       "[\"Getting Started$$$Keywords and Identifiers$$$Statements & Comments$$$Python Variables$$$Python Datatypes$$$Python Type Conversion$$$Python I/O and import$$$Python Operators$$$Python Namespace|||Python if...else$$$Python for Loop$$$Python while Loop$$$Python break and continue$$$Python Pass|||Python Functions$$$Function Argument$$$Python Recursion$$$Anonymous Function$$$Global, Local and Nonlocal$$$Python Global Keyword$$$Python Modules$$$Python Package|||Python Numbers$$$Python List$$$Python Tuple$$$Python String$$$Python Set$$$Python Dictionary|||Python File Operation$$$Python Directory$$$Python Exception$$$Python Exception Handling$$$Python User-defined Exception|||Python OOP$$$Python Class$$$Python Inheritance$$$Multiple Inheritance$$$Operator Overloading|||Python Iterator$$$Python Generator$$$Python Closure$$$Python Decorators$$$Python Property$$$Python RegEx$$$Python Examples|||Python datetime Module$$$Python datetime.strftime()$$$Python datetime.strptime()$$$Current date & time$$$Get current time$$$Timestamp to datetime$$$Python time Module$$$Python time.sleep()|||Getting Started$$$Keywords and Identifiers$$$Statements & Comments$$$Python Variables$$$Python Datatypes$$$Python Type Conversion$$$Python I/O and import$$$Python Operators$$$Python Namespace|||Python if...else$$$Python for Loop$$$Python while Loop$$$Python break and continue$$$Python Pass|||Python Functions$$$Function Argument$$$Python Recursion$$$Anonymous Function$$$Global, Local and Nonlocal$$$Python Global Keyword$$$Python Modules$$$Python Package|||Python Numbers$$$Python List$$$Python Tuple$$$Python String$$$Python Set$$$Python Dictionary|||Python File Operation$$$Python Directory$$$Python Exception$$$Python Exception Handling$$$Python User-defined Exception|||Python OOP$$$Python Class$$$Python Inheritance$$$Multiple Inheritance$$$Operator Overloading|||Python Iterator$$$Python Generator$$$Python Closure$$$Python Decorators$$$Python Property$$$Python RegEx$$$Python Examples|||Python datetime Module$$$Python datetime.strftime()$$$Python datetime.strptime()$$$Current date & time$$$Get current time$$$Timestamp to datetime$$$Python time Module$$$Python time.sleep()|||Free and open-source - You can freely use and distribute Python, even for commercial use.$$$Easy to learn - Python has a very simple and elegant syntax. It's much easier to read and write Python programs compared to other languages like C++, Java, C#.$$$Portable - You can move Python programs from one platform to another, and run it without any changes.$$$|||Python is easy to learn. Its syntax is easy and code is very readable.$$$Python has a lot of applications. It's used for developing web applications, data science, rapid application development, and so on.$$$Python allows you to write programs in fewer lines of code than most of the programming languages.$$$The popularity of Python is growing rapidly. Now it's one of the most popular programming languages.$$$|||Python tutorial from Programiz - We provide step by step Python tutorials, examples, and references. Get started with Python.$$$Official Python tutorial - Might be hard to follow and understand for beginners. Visit the official Python tutorial.$$$Get Learn Python App - The beginner-friendly app contains byte-size lessons and an integrated Python interpreter. To learn more, visit: Learn Python app$$$Write a lot of Python code- The only way you can learn programming is by writing a lot of code.$$$|||Python Examples$$$Python References$$$Python Online Compiler$$$Python Guide$$$Python Tutorial Videos$$$\"]"
      ]
     },
     "execution_count": 198,
     "metadata": {},
     "output_type": "execute_result"
    }
   ],
   "source": [
    "unordered_list_items"
   ]
  },
  {
   "cell_type": "code",
   "execution_count": 176,
   "id": "389a547e",
   "metadata": {},
   "outputs": [
    {
     "data": {
      "text/plain": [
       "['Introduction$$$Python Flow Control$$$Python Functions$$$Python Datatypes$$$Python Files$$$Python Object & Class$$$Python Advanced Topics$$$Python Date & Time$$$|||About Python Programming$$$Why Learn Python?$$$How to learn Python?$$$Python Resources']"
      ]
     },
     "execution_count": 176,
     "metadata": {},
     "output_type": "execute_result"
    }
   ],
   "source": [
    "list_headings"
   ]
  },
  {
   "cell_type": "code",
   "execution_count": 199,
   "id": "2f2c4b17",
   "metadata": {},
   "outputs": [
    {
     "data": {
      "text/plain": [
       "(1, 0, 1, 1, 1)"
      ]
     },
     "execution_count": 199,
     "metadata": {},
     "output_type": "execute_result"
    }
   ],
   "source": [
    "len(course_description), len(course_headings), len(site_links), len(unordered_list_items), len(links_in_page)"
   ]
  },
  {
   "cell_type": "code",
   "execution_count": null,
   "id": "77ddebe5",
   "metadata": {},
   "outputs": [],
   "source": []
  }
 ],
 "metadata": {
  "kernelspec": {
   "display_name": "Python 3 (ipykernel)",
   "language": "python",
   "name": "python3"
  },
  "language_info": {
   "codemirror_mode": {
    "name": "ipython",
    "version": 3
   },
   "file_extension": ".py",
   "mimetype": "text/x-python",
   "name": "python",
   "nbconvert_exporter": "python",
   "pygments_lexer": "ipython3",
   "version": "3.8.8"
  }
 },
 "nbformat": 4,
 "nbformat_minor": 5
}
